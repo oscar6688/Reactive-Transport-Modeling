{
 "cells": [
  {
   "cell_type": "code",
   "execution_count": 68,
   "metadata": {},
   "outputs": [],
   "source": [
    "import pandas as pd\n",
    "import numpy as np\n",
    "import re"
   ]
  },
  {
   "cell_type": "code",
   "execution_count": 3,
   "metadata": {},
   "outputs": [],
   "source": [
    "with open('chemical.inp', 'r') as f:\n",
    "    lines = f.readlines()\n"
   ]
  },
  {
   "cell_type": "code",
   "execution_count": 10,
   "metadata": {},
   "outputs": [
    {
     "data": {
      "text/plain": [
       "['12 ! Protection of Msac_s:\\n',\n",
       " \"    2  -1.0 'Msac_s' 1.0 'Msac_p'\\n\",\n",
       " '      1    1    ! (kinetic model index; Number mechanisms)\\n',\n",
       " '      6.600000e-08            ! (forward rate constant)\\n',\n",
       " \"      2  'Msac_s'  2  1.0   'P_red'  2  1.0         ! Product term\\n\",\n",
       " '      0                           ! Monod terms\\n',\n",
       " '      0                           ! Inhibition terms\\n',\n",
       " '13 ! Unprotection of Msac_p:\\n',\n",
       " \"    2  -1.0 'Msac_p'  1.0 'Msac_s'\\n\",\n",
       " '      1    1    ! (kinetic model index; Number mechanisms)\\n',\n",
       " '      9.428571e-11            ! (forward rate constant)\\n',\n",
       " \"      1  'Msac_p'  2  1.0              ! Product term\\n\",\n",
       " '      0                           ! Monod terms\\n',\n",
       " '      0         ! Inhibition terms\\n',\n",
       " '14 ! Protection of Pglyc_s:\\n',\n",
       " \"    2  -1.0 'Pglyc_s' 1.0 'Pglyc_p'\\n\",\n",
       " '      1    1    ! (kinetic model index; Number mechanisms)\\n',\n",
       " '      6.600000e-08            ! (forward rate constant)\\n',\n",
       " \"      2  'Pglyc_s'  2  1.0   'P_red'  2  1.0         ! Product term\\n\",\n",
       " '      0                           ! Monod terms\\n',\n",
       " '      0                           ! Inhibition terms\\n',\n",
       " '15 ! Unprotection of Pglyc_p:\\n',\n",
       " \"    2  -1.0 'Pglyc_p'  1.0 'Pglyc_s'\\n\",\n",
       " '      1    1    ! (kinetic model index; Number mechanisms)\\n',\n",
       " '      6.285714e-13            ! (forward rate constant)\\n',\n",
       " \"      1  'Pglyc_p'  2  1.0              ! Product term\\n\",\n",
       " '      0                           ! Monod terms\\n',\n",
       " '      0         ! Inhibition terms\\n',\n",
       " '16 ! Protection of AmA_s:\\n',\n",
       " \"    2  -1.0 'AmA_s' 1.0 'AmA_p'\\n\",\n",
       " '      1    1    ! (kinetic model index; Number mechanisms)\\n',\n",
       " '      6.600000e-08            ! (forward rate constant)\\n',\n",
       " \"      2  'AmA_s'  2  1.0   'P_red'  2  1.0         ! Product term\\n\",\n",
       " '      0                           ! Monod terms\\n',\n",
       " '      0                           ! Inhibition terms\\n',\n",
       " '17 ! Unprotection of AmA_p:\\n',\n",
       " \"    2  -1.0 'AmA_p'  1.0 'AmA_s'\\n\",\n",
       " '      1    1    ! (kinetic model index; Number mechanisms)\\n',\n",
       " '      3.142857e-11            ! (forward rate constant)\\n',\n",
       " \"      1  'AmA_p'  2  1.0              ! Product term\\n\",\n",
       " '      0                           ! Monod terms\\n',\n",
       " '      0         ! Inhibition terms\\n',\n",
       " '18 ! Protection of AmS_s:\\n',\n",
       " \"    2  -1.0 'AmS_s' 1.0 'AmS_p'\\n\",\n",
       " '      1    1    ! (kinetic model index; Number mechanisms)\\n',\n",
       " '      6.600000e-08            ! (forward rate constant)\\n',\n",
       " \"      2  'AmS_s'  2  1.0   'P_red'  2  1.0         ! Product term\\n\",\n",
       " '      0                           ! Monod terms\\n',\n",
       " '      0                           ! Inhibition terms\\n',\n",
       " '19 ! Unprotection of AmS_p:\\n',\n",
       " \"    2  -1.0 'AmS_p'  1.0 'AmS_s'\\n\",\n",
       " '      1    1    ! (kinetic model index; Number mechanisms)\\n',\n",
       " '      3.142857e-11            ! (forward rate constant)\\n',\n",
       " \"      1  'AmS_p'  2  1.0              ! Product term\\n\",\n",
       " '      0                           ! Monod terms\\n',\n",
       " '      0         ! Inhibition terms\\n',\n",
       " '20 ! Protection of OrgA_s:\\n',\n",
       " \"    2  -1.0 'OrgA_s' 1.0 'OrgA_p'\\n\",\n",
       " '      1    1    ! (kinetic model index; Number mechanisms)\\n',\n",
       " '      6.600000e-08            ! (forward rate constant)\\n',\n",
       " \"      2  'OrgA_s'  2  1.0   'P_red'  2  1.0         ! Product term\\n\",\n",
       " '      0                           ! Monod terms\\n',\n",
       " '      0                           ! Inhibition terms\\n',\n",
       " '21 ! Unprotection of OrgA_p:\\n',\n",
       " \"    2  -1.0 'OrgA_p'  1.0 'OrgA_s'\\n\",\n",
       " '      1    1    ! (kinetic model index; Number mechanisms)\\n',\n",
       " '      2.693878e-11            ! (forward rate constant)\\n',\n",
       " \"      1  'OrgA_p'  2  1.0              ! Product term\\n\",\n",
       " '      0                           ! Monod terms\\n',\n",
       " '      0         ! Inhibition terms\\n',\n",
       " '22 ! Protection of Phen_s:\\n',\n",
       " \"    2  -1.0 'Phen_s' 1.0 'Phen_p'\\n\",\n",
       " '      1    1    ! (kinetic model index; Number mechanisms)\\n',\n",
       " '      6.600000e-08            ! (forward rate constant)\\n',\n",
       " \"      2  'Phen_s'  2  1.0   'P_red'  2  1.0         ! Product term\\n\",\n",
       " '      0                           ! Monod terms\\n',\n",
       " '      0                           ! Inhibition terms\\n',\n",
       " '23 ! Unprotection of Phen_p:\\n',\n",
       " \"    2  -1.0 'Phen_p'  1.0 'Phen_s'\\n\",\n",
       " '      1    1    ! (kinetic model index; Number mechanisms)\\n',\n",
       " '      4.714286e-11            ! (forward rate constant)\\n',\n",
       " \"      1  'Phen_p'  2  1.0              ! Product term\\n\",\n",
       " '      0                           ! Monod terms\\n',\n",
       " '      0         ! Inhibition terms\\n',\n",
       " '24 ! Protection of Lip_s:\\n',\n",
       " \"    2  -1.0 'Lip_s' 1.0 'Lip_p'\\n\",\n",
       " '      1    1    ! (kinetic model index; Number mechanisms)\\n',\n",
       " '      6.600000e-08            ! (forward rate constant)\\n',\n",
       " \"      2  'Lip_s'  2  1.0   'P_red'  2  1.0         ! Product term\\n\",\n",
       " '      0                           ! Monod terms\\n',\n",
       " '      0                           ! Inhibition terms\\n',\n",
       " '25 ! Unprotection of Lip_p:\\n',\n",
       " \"    2  -1.0 'Lip_p'  1.0 'Lip_s'\\n\",\n",
       " '      1    1    ! (kinetic model index; Number mechanisms)\\n',\n",
       " '      3.142857e-11            ! (forward rate constant)\\n',\n",
       " \"      1  'Lip_p'  2  1.0              ! Product term\\n\",\n",
       " '      0                           ! Monod terms\\n',\n",
       " '      0         ! Inhibition terms\\n',\n",
       " '26 ! Protection of Ntide_s:\\n',\n",
       " \"    2  -1.0 'Ntide_s' 1.0 'Ntide_p'\\n\",\n",
       " '      1    1    ! (kinetic model index; Number mechanisms)\\n',\n",
       " '      6.600000e-08            ! (forward rate constant)\\n',\n",
       " \"      2  'Ntide_s'  2  1.0   'P_red'  2  1.0         ! Product term\\n\",\n",
       " '      0                           ! Monod terms\\n',\n",
       " '      0                           ! Inhibition terms\\n',\n",
       " '27 ! Unprotection of Ntide_p:\\n',\n",
       " \"    2  -1.0 'Ntide_p'  1.0 'Ntide_s'\\n\",\n",
       " '      1    1    ! (kinetic model index; Number mechanisms)\\n',\n",
       " '      6.285714e-11            ! (forward rate constant)\\n',\n",
       " \"      1  'Ntide_p'  2  1.0              ! Product term\\n\",\n",
       " '      0                           ! Monod terms\\n',\n",
       " '      0         ! Inhibition terms\\n',\n",
       " '28 ! Death of 1 mg of B_{AER}:\\n',\n",
       " \"    8  -1.0 'B_{AER}'  9.251e-10 'Msac_p' 6.542e-11 'Pglyc_p' 1.276e-08 'AmA_p' 9.302e-10 'AmS_p' 1.243e-09 'OrgA_p' 2.963e-09 'Lip_p' 4.856e-09 'Ntide_p'\\n\",\n",
       " '      1    1    ! (kinetic model index; Number mechanisms)\\n',\n",
       " '      1.000000e-07            ! (forward rate constant)\\n',\n",
       " \"      2  'B_{AER}'  2  1.0    'Act_B'  2  1.0          ! Product term\\n\",\n",
       " '      0                     ! Monod terms\\n',\n",
       " '      0                     ! Inhibition terms\\n',\n",
       " '29 ! Death of 1 mg of B_{FUN}:\\n',\n",
       " \"    8  -1.0 'B_{FUN}'  9.251e-10 'Msac_p' 6.542e-11 'Pglyc_p' 1.276e-08 'AmA_p' 9.302e-10 'AmS_p' 1.243e-09 'OrgA_p' 2.963e-09 'Lip_p' 4.856e-09 'Ntide_p'\\n\",\n",
       " '      1    1    ! (kinetic model index; Number mechanisms)\\n',\n",
       " '      7.000000e-09            ! (forward rate constant)\\n',\n",
       " \"      2  'B_{FUN}'  2  1.0    'Act_B'  2  1.0          ! Product term\\n\",\n",
       " '      0                     ! Monod terms\\n',\n",
       " '      0                     ! Inhibition terms\\n',\n",
       " '30 ! root exudation         (stoichiometry is given by (fraction into that pool)/(molar mass of that pool in [g/mol] )\\n',\n",
       " \"    4  2.775e-03 'Msac_s' 1.531e-03 'AmA_s' 1.492e-03 'OrgA_s' 3.556e-04 'Lip_s'\\n\",\n",
       " '      1    1    ! (kinetic model index; Number mechanisms)\\n',\n",
       " '      3.551497e-06            ! (forward rate constant)\\n',\n",
       " \"      1 'Root' 2 1.0                     ! Product term\\n\",\n",
       " '      0                     ! Monod terms\\n',\n",
       " '      0                     ! Inhibition terms\\n',\n",
       " '31 ! leaf litter generation         (stoichiometry is given by (fraction into that pool)/(molar mass of that pool in [g/mol] )\\n',\n",
       " \"    6  6.661e-04 'Msac_p' 2.849e-07 'Clse_p' 1.233e-05 'HClse_p' 7.655e-04 'AmA_p' 4.267e-04 'Lip_p' 1.748e-04 'Ntide_p'\\n\",\n",
       " '      1    1    ! (kinetic model index; Number mechanisms)\\n',\n",
       " '      1.419330e-06            ! (forward rate constant)\\n',\n",
       " \"      1 'L_lit' 2 1.0                     ! Product term\\n\",\n",
       " '      0                     ! Monod terms\\n',\n",
       " '      0                     ! Inhibition terms\\n',\n",
       " '32 ! woody litter generation         (stoichiometry is given by (fraction into that pool)/(molar mass of that pool in [g/mol] )\\n',\n",
       " \"    7  1.388e-04 'Msac_p' 3.134e-07 'Clse_p' 9.251e-06 'HClse_p' 7.655e-05 'AmA_p' 6.659e-06 'Lig_p' 3.348e-04 'Phen_p' 1.778e-04 'Lip_p'\\n\",\n",
       " '      1    1    ! (kinetic model index; Number mechanisms)\\n',\n",
       " '      1.065449e-06            ! (forward rate constant)\\n',\n",
       " \"      1 'W_lit' 2 1.0                     ! Product term\\n\",\n",
       " '      0                     ! Monod terms\\n',\n",
       " '      0                     ! Inhibition terms\\n',\n",
       " \"'*'\\n\"]"
      ]
     },
     "execution_count": 10,
     "metadata": {},
     "output_type": "execute_result"
    }
   ],
   "source": [
    "lines[114:262]"
   ]
  },
  {
   "cell_type": "code",
   "execution_count": 20,
   "metadata": {},
   "outputs": [
    {
     "data": {
      "text/plain": [
       "['12 ! Protection of Msac_s:\\n',\n",
       " \"    2  -1.0 'Msac_s' 1.0 'Msac_p'\\n\",\n",
       " '      1    1    ! (kinetic model index; Number mechanisms)\\n',\n",
       " '      6.600000e-08            ! (forward rate constant)\\n',\n",
       " \"      2  'Msac_s'  2  1.0   'P_red'  2  1.0         ! Product term\\n\",\n",
       " '      0                           ! Monod terms\\n',\n",
       " '      0                           ! Inhibition terms\\n',\n",
       " '13 ! Unprotection of Msac_p:\\n',\n",
       " \"    2  -1.0 'Msac_p'  1.0 'Msac_s'\\n\",\n",
       " '      1    1    ! (kinetic model index; Number mechanisms)\\n',\n",
       " '      9.428571e-11            ! (forward rate constant)\\n',\n",
       " \"      1  'Msac_p'  2  1.0              ! Product term\\n\",\n",
       " '      0                           ! Monod terms\\n',\n",
       " '      0         ! Inhibition terms\\n',\n",
       " '14 ! Protection of Pglyc_s:\\n',\n",
       " \"    2  -1.0 'Pglyc_s' 1.0 'Pglyc_p'\\n\",\n",
       " '      1    1    ! (kinetic model index; Number mechanisms)\\n',\n",
       " '      6.600000e-08            ! (forward rate constant)\\n',\n",
       " \"      2  'Pglyc_s'  2  1.0   'P_red'  2  1.0         ! Product term\\n\",\n",
       " '      0                           ! Monod terms\\n',\n",
       " '      0                           ! Inhibition terms\\n',\n",
       " '15 ! Unprotection of Pglyc_p:\\n']"
      ]
     },
     "execution_count": 20,
     "metadata": {},
     "output_type": "execute_result"
    }
   ],
   "source": [
    "lines[114:136]"
   ]
  },
  {
   "cell_type": "code",
   "execution_count": 128,
   "metadata": {},
   "outputs": [],
   "source": [
    "new_constants = {\n",
    "    12: '1.200000e-7',\n",
    "    13: '2.3400e-8',\n",
    "    14: '3.45e-9'\n",
    "}"
   ]
  },
  {
   "cell_type": "code",
   "execution_count": 129,
   "metadata": {},
   "outputs": [
    {
     "name": "stdout",
     "output_type": "stream",
     "text": [
      "12\n",
      "1.200000e-7\n",
      "13\n",
      "2.3400e-8\n",
      "14\n",
      "3.45e-9\n"
     ]
    }
   ],
   "source": [
    "for i, j in new_constants.items():\n",
    "    print(i)\n",
    "    print(j)"
   ]
  },
  {
   "cell_type": "code",
   "execution_count": 141,
   "metadata": {},
   "outputs": [
    {
     "name": "stdout",
     "output_type": "stream",
     "text": [
      "1.200000e-7            ! (forward rate constant)\n",
      "\n",
      "2.3400e-8            ! (forward rate constant)\n",
      "\n",
      "3.45e-9            ! (forward rate constant)\n",
      "\n"
     ]
    }
   ],
   "source": [
    "for var_num, new_rate_constant in new_constants.items():\n",
    "    for i, line in enumerate(lines[114:136]):\n",
    "        # print(f'i is {i} and line is {line}')\n",
    "        if line.startswith(f'{var_num} !'):\n",
    "            #       6.600000e-08            ! (forward rate constant)\n",
    "            file_rate_constant_line = lines[114 + i + 3]\n",
    "            # print(rate_constant_line)\n",
    "\n",
    "            rate_constant = re.findall(r\"-?\\ *\\d+\\.?\\d*(?:[Ee]\\ *-?\\ *\\d+)?\", file_rate_constant_line)[0]\n",
    "            # print(f'files constant{rate_constant}')\n",
    "            # print(f'my new constant is {new_rate_constant}')\n",
    "\n",
    "            # update the file constant to our new constant rate \n",
    "            replace_constant = file_rate_constant_line.replace(rate_constant, new_rate_constant)\n",
    "            print(replace_constant)\n",
    "\n",
    "\n",
    "\n",
    "# Function not finish because first, string replace maybe used by re.sub, it is also not inplace \n",
    "# also need to send back the complete file too not just part of it\n",
    "\n",
    "\n",
    "\n",
    "# with open('chemical.inp', 'w') as f:\n",
    "#     f.writelines(lines[114:136])        \n"
   ]
  },
  {
   "cell_type": "code",
   "execution_count": 65,
   "metadata": {},
   "outputs": [
    {
     "name": "stdout",
     "output_type": "stream",
     "text": [
      "      6.600000e-08            ! (forward rate constant)\n",
      "\n",
      "      1.000000e-009            ! (forward rate constant)\n",
      "\n",
      "      9.428571e-11            ! (forward rate constant)\n",
      "\n",
      "      1.000000e-013            ! (forward rate constant)\n",
      "\n",
      "      6.600000e-08            ! (forward rate constant)\n",
      "\n",
      "      1.300000e-009            ! (forward rate constant, or maximum specific growth rate )\n",
      "\n",
      "           2.440667E-4          ! forward rate constant (decay constant, -b here)\n",
      "\n"
     ]
    }
   ],
   "source": [
    "# in our dictionary of values we want to change\n",
    "for var_num, new_rate_constant in new_constants.items():\n",
    "    for i, line in enumerate(lines):\n",
    "        # print(f'i is {i} and line is {line}')\n",
    "        if line.startswith(f'{var_num} !'):\n",
    "            rate_constant_line = lines[i+3]"
   ]
  },
  {
   "cell_type": "code",
   "execution_count": null,
   "metadata": {},
   "outputs": [],
   "source": []
  },
  {
   "cell_type": "code",
   "execution_count": 49,
   "metadata": {},
   "outputs": [
    {
     "ename": "ValueError",
     "evalue": "'10 !' is not in list",
     "output_type": "error",
     "traceback": [
      "\u001b[0;31m---------------------------------------------------------------------------\u001b[0m",
      "\u001b[0;31mValueError\u001b[0m                                Traceback (most recent call last)",
      "Cell \u001b[0;32mIn[49], line 2\u001b[0m\n\u001b[1;32m      1\u001b[0m \u001b[39mfor\u001b[39;00m key, value \u001b[39min\u001b[39;00m new_constants\u001b[39m.\u001b[39mitems():\n\u001b[0;32m----> 2\u001b[0m         index \u001b[39m=\u001b[39m lines\u001b[39m.\u001b[39;49mindex(\u001b[39mf\u001b[39;49m\u001b[39m'\u001b[39;49m\u001b[39m{\u001b[39;49;00mkey\u001b[39m}\u001b[39;49;00m\u001b[39m !\u001b[39;49m\u001b[39m'\u001b[39;49m)\n\u001b[1;32m      3\u001b[0m         \u001b[39mprint\u001b[39m(index)\n\u001b[1;32m      4\u001b[0m         \u001b[39m# lines[index + 2] = f'      {value}            ! (forward rate constant)\\n'\u001b[39;00m\n",
      "\u001b[0;31mValueError\u001b[0m: '10 !' is not in list"
     ]
    }
   ],
   "source": [
    "for key, value in new_constants.items():\n",
    "        index = lines.index(f'{key} !')\n",
    "        print(index)\n",
    "        # lines[index + 2] = f'      {value}            ! (forward rate constant)\\n'"
   ]
  },
  {
   "cell_type": "code",
   "execution_count": null,
   "metadata": {},
   "outputs": [],
   "source": []
  }
 ],
 "metadata": {
  "kernelspec": {
   "display_name": "Python 3",
   "language": "python",
   "name": "python3"
  },
  "language_info": {
   "codemirror_mode": {
    "name": "ipython",
    "version": 3
   },
   "file_extension": ".py",
   "mimetype": "text/x-python",
   "name": "python",
   "nbconvert_exporter": "python",
   "pygments_lexer": "ipython3",
   "version": "3.11.1"
  },
  "orig_nbformat": 4
 },
 "nbformat": 4,
 "nbformat_minor": 2
}
